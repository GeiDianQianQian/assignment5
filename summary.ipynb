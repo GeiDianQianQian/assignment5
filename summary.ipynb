{
 "cells": [
  {
   "cell_type": "code",
   "execution_count": 1,
   "metadata": {
    "collapsed": true
   },
   "outputs": [],
   "source": [
    "import numpy as np\n",
    "import pandas as pd\n",
    "import glob\n",
    "import matplotlib.pyplot as plt"
   ]
  },
  {
   "cell_type": "code",
   "execution_count": 2,
   "metadata": {
    "collapsed": true
   },
   "outputs": [],
   "source": [
    "def summary(filename):\n",
    "    data = pd.read_csv(filename)\n",
    "    #print(data)\n",
    "    x_mean = data['x'].mean()\n",
    "    y_mean = data['y'].mean()\n",
    "    print('x_mean',x_mean)\n",
    "    print('y_mean',y_mean)\n",
    "    x_std = np.std(data['x'])\n",
    "    y_std = np.std(data['y'])\n",
    "    print('x_std',x_std)\n",
    "    print('y_std',y_std)\n",
    "    x_min = min(data['x'])\n",
    "    x_max = max(data['x'])\n",
    "    y_min = min(data['y'])\n",
    "    y_max = max(data['y'])\n",
    "    print('x_min',x_min)\n",
    "    print('x_max',x_max)\n",
    "    print('y_min',y_min)\n",
    "    print('y_max',y_max)\n",
    "    r = np.corrcoef(data['x'], data['y'])[0, 1]\n",
    "    print('r',r)\n",
    "    plt.scatter(data['x'],data['y'])"
   ]
  },
  {
   "cell_type": "code",
   "execution_count": 3,
   "metadata": {
    "collapsed": false
   },
   "outputs": [
    {
     "name": "stdout",
     "output_type": "stream",
     "text": [
      "x_mean 8.717696186413818\n",
      "y_mean 12.522874034702589\n",
      "x_std 12.09458693659896\n",
      "y_std 6.606680770370137\n",
      "x_min -22.63587779\n",
      "x_max 35.2370554879\n",
      "y_min -2.56508783269\n",
      "y_max 27.3841526115\n",
      "r 0.950325695438\n"
     ]
    }
   ],
   "source": [
    "summary('data-1.csv')"
   ]
  },
  {
   "cell_type": "code",
   "execution_count": 4,
   "metadata": {
    "collapsed": false
   },
   "outputs": [
    {
     "name": "stdout",
     "output_type": "stream",
     "text": [
      "x_mean -0.7107871267159582\n",
      "y_mean -0.7489869764497992\n",
      "x_std 11.424031427941332\n",
      "y_std 6.226549791205469\n",
      "x_min -33.2711130771\n",
      "x_max 27.6470003722\n",
      "y_min -18.6218037604\n",
      "y_max 14.1473149923\n",
      "r 0.955153166575\n"
     ]
    }
   ],
   "source": [
    "summary('data-2.csv')"
   ]
  },
  {
   "cell_type": "code",
   "execution_count": 5,
   "metadata": {
    "collapsed": false
   },
   "outputs": [
    {
     "name": "stdout",
     "output_type": "stream",
     "text": [
      "x_mean 0.9689074904200942\n",
      "y_mean 8.50853523664133\n",
      "x_std 2.2318288211623574\n",
      "y_std 1.1473837107336815\n",
      "x_min -2.44906432967\n",
      "x_max 4.51888491755\n",
      "y_min 6.64173449039\n",
      "y_max 10.5518710228\n",
      "r 0.981937264676\n"
     ]
    }
   ],
   "source": [
    "summary('data-3.csv')"
   ]
  },
  {
   "cell_type": "code",
   "execution_count": 6,
   "metadata": {
    "collapsed": false
   },
   "outputs": [
    {
     "name": "stdout",
     "output_type": "stream",
     "text": [
      "x_mean 49.90508614830509\n",
      "y_mean 18.55383652542372\n",
      "x_std 28.38755430203193\n",
      "y_std 16.4756375419362\n",
      "x_min 0.0\n",
      "x_max 87.3767\n",
      "y_min 0.0\n",
      "y_max 44.56504\n",
      "r -0.0811930673549\n"
     ]
    }
   ],
   "source": [
    "summary('data-4.csv')"
   ]
  },
  {
   "cell_type": "code",
   "execution_count": 7,
   "metadata": {
    "collapsed": false
   },
   "outputs": [
    {
     "name": "stdout",
     "output_type": "stream",
     "text": [
      "x_mean 49.90999357843096\n",
      "y_mean 18.55552493772909\n",
      "x_std 28.378981284825986\n",
      "y_std 16.470559057583237\n",
      "x_min 4.33789245367\n",
      "x_max 91.0528633397\n",
      "y_min 0.0554975075812\n",
      "y_max 49.9341970363\n",
      "r -0.0882359898306\n"
     ]
    }
   ],
   "source": [
    "summary('data-5.csv')"
   ]
  },
  {
   "cell_type": "code",
   "execution_count": 8,
   "metadata": {
    "collapsed": false
   },
   "outputs": [],
   "source": []
  }
 ],
 "metadata": {
  "kernelspec": {
   "display_name": "Python 3",
   "language": "python",
   "name": "python3"
  },
  "language_info": {
   "codemirror_mode": {
    "name": "ipython",
    "version": 3
   },
   "file_extension": ".py",
   "mimetype": "text/x-python",
   "name": "python",
   "nbconvert_exporter": "python",
   "pygments_lexer": "ipython3",
   "version": "3.6.0"
  }
 },
 "nbformat": 4,
 "nbformat_minor": 2
}
